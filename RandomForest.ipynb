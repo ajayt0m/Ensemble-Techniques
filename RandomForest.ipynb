{
 "cells": [
  {
   "cell_type": "code",
   "execution_count": 7,
   "metadata": {},
   "outputs": [],
   "source": [
    "import pandas as pd\n",
    "\n",
    "file_path = r\"https://raw.githubusercontent.com/ajayt0m/Ensemble-Techniques/main/Pistachio_28_Features_Dataset.xlsx\"\n",
    "\n",
    "pistachio_df = pd.read_excel(file_path)"
   ]
  },
  {
   "cell_type": "code",
   "execution_count": 8,
   "metadata": {},
   "outputs": [
    {
     "name": "stdout",
     "output_type": "stream",
     "text": [
      "<class 'pandas.core.frame.DataFrame'>\n",
      "RangeIndex: 2148 entries, 0 to 2147\n",
      "Data columns (total 29 columns):\n",
      " #   Column         Non-Null Count  Dtype  \n",
      "---  ------         --------------  -----  \n",
      " 0   Area           2148 non-null   int64  \n",
      " 1   Perimeter      2148 non-null   float64\n",
      " 2   Major_Axis     2148 non-null   float64\n",
      " 3   Minor_Axis     2148 non-null   float64\n",
      " 4   Eccentricity   2148 non-null   float64\n",
      " 5   Eqdiasq        2148 non-null   float64\n",
      " 6   Solidity       2148 non-null   float64\n",
      " 7   Convex_Area    2148 non-null   int64  \n",
      " 8   Extent         2148 non-null   float64\n",
      " 9   Aspect_Ratio   2148 non-null   float64\n",
      " 10  Roundness      2148 non-null   float64\n",
      " 11  Compactness    2148 non-null   float64\n",
      " 12  Shapefactor_1  2148 non-null   float64\n",
      " 13  Shapefactor_2  2148 non-null   float64\n",
      " 14  Shapefactor_3  2148 non-null   float64\n",
      " 15  Shapefactor_4  2148 non-null   float64\n",
      " 16  Mean_RR        2148 non-null   float64\n",
      " 17  Mean_RG        2148 non-null   float64\n",
      " 18  Mean_RB        2148 non-null   float64\n",
      " 19  StdDev_RR      2148 non-null   float64\n",
      " 20  StdDev_RG      2148 non-null   float64\n",
      " 21  StdDev_RB      2148 non-null   float64\n",
      " 22  Skew_RR        2148 non-null   float64\n",
      " 23  Skew_RG        2148 non-null   float64\n",
      " 24  Skew_RB        2148 non-null   float64\n",
      " 25  Kurtosis_RR    2148 non-null   float64\n",
      " 26  Kurtosis_RG    2148 non-null   float64\n",
      " 27  Kurtosis_RB    2148 non-null   float64\n",
      " 28  Class          2148 non-null   object \n",
      "dtypes: float64(26), int64(2), object(1)\n",
      "memory usage: 486.8+ KB\n"
     ]
    }
   ],
   "source": [
    "pistachio_df.info()"
   ]
  },
  {
   "cell_type": "code",
   "execution_count": 11,
   "metadata": {},
   "outputs": [
    {
     "data": {
      "image/png": "[encoded data removed]",
      "text/plain": [
       "<Figure size 640x480 with 1 Axes>"
      ]
     },
     "metadata": {},
     "output_type": "display_data"
    }
   ],
   "source": [
    "import seaborn as sns\n",
    "import matplotlib.pyplot as plt\n",
    "\n",
    "sns.countplot(data=pistachio_df, x=\"Class\")\n",
    "plt.xlabel(\"Pistachio Class\")\n",
    "plt.ylabel(\"Count of Pistachio Class\")\n",
    "plt.title(\"Pistachio Class Count Plot\")\n",
    "plt.show()"
   ]
  },
  {
   "cell_type": "code",
   "execution_count": 12,
   "metadata": {},
   "outputs": [],
   "source": [
    "X = pistachio_df.iloc[:,:-1]\n",
    "y = pistachio_df.iloc[:,-1]"
   ]
  },
  {
   "cell_type": "code",
   "execution_count": 13,
   "metadata": {},
   "outputs": [
    {
     "data": {
      "text/plain": [
       "(2148, 28)"
      ]
     },
     "execution_count": 13,
     "metadata": {},
     "output_type": "execute_result"
    }
   ],
   "source": [
    "X.shape"
   ]
  },
  {
   "cell_type": "code",
   "execution_count": 14,
   "metadata": {},
   "outputs": [
    {
     "data": {
      "text/plain": [
       "(2148,)"
      ]
     },
     "execution_count": 14,
     "metadata": {},
     "output_type": "execute_result"
    }
   ],
   "source": [
    "y.shape"
   ]
  },
  {
   "cell_type": "code",
   "execution_count": 33,
   "metadata": {},
   "outputs": [],
   "source": [
    "from sklearn.model_selection import train_test_split\n",
    "X_train, X_test, y_train, y_test = train_test_split(X,y,train_size=0.75,random_state=36)"
   ]
  },
  {
   "cell_type": "code",
   "execution_count": 34,
   "metadata": {},
   "outputs": [
    {
     "data": {
      "text/plain": [
       "(1611, 28)"
      ]
     },
     "execution_count": 34,
     "metadata": {},
     "output_type": "execute_result"
    }
   ],
   "source": [
    "X_train.shape"
   ]
  },
  {
   "cell_type": "code",
   "execution_count": 16,
   "metadata": {},
   "outputs": [],
   "source": [
    "from sklearn.ensemble import RandomForestClassifier\n",
    "rfc = RandomForestClassifier(criterion=\"gini\", \n",
    "                             max_depth=8,\n",
    "                             min_samples_split=10,\n",
    "                             random_state=5)"
   ]
  },
  {
   "cell_type": "code",
   "execution_count": 17,
   "metadata": {},
   "outputs": [
    {
     "data": {
      "text/html": [
       "<style>#sk-container-id-1 {color: black;}#sk-container-id-1 pre{padding: 0;}#sk-container-id-1 div.sk-toggleable {background-color: white;}#sk-container-id-1 label.sk-toggleable__label {cursor: pointer;display: block;width: 100%;margin-bottom: 0;padding: 0.3em;box-sizing: border-box;text-align: center;}#sk-container-id-1 label.sk-toggleable__label-arrow:before {content: \"▸\";float: left;margin-right: 0.25em;color: #696969;}#sk-container-id-1 label.sk-toggleable__label-arrow:hover:before {color: black;}#sk-container-id-1 div.sk-estimator:hover label.sk-toggleable__label-arrow:before {color: black;}#sk-container-id-1 div.sk-toggleable__content {max-height: 0;max-width: 0;overflow: hidden;text-align: left;background-color: #f0f8ff;}#sk-container-id-1 div.sk-toggleable__content pre {margin: 0.2em;color: black;border-radius: 0.25em;background-color: #f0f8ff;}#sk-container-id-1 input.sk-toggleable__control:checked~div.sk-toggleable__content {max-height: 200px;max-width: 100%;overflow: auto;}#sk-container-id-1 input.sk-toggleable__control:checked~label.sk-toggleable__label-arrow:before {content: \"▾\";}#sk-container-id-1 div.sk-estimator input.sk-toggleable__control:checked~label.sk-toggleable__label {background-color: #d4ebff;}#sk-container-id-1 div.sk-label input.sk-toggleable__control:checked~label.sk-toggleable__label {background-color: #d4ebff;}#sk-container-id-1 input.sk-hidden--visually {border: 0;clip: rect(1px 1px 1px 1px);clip: rect(1px, 1px, 1px, 1px);height: 1px;margin: -1px;overflow: hidden;padding: 0;position: absolute;width: 1px;}#sk-container-id-1 div.sk-estimator {font-family: monospace;background-color: #f0f8ff;border: 1px dotted black;border-radius: 0.25em;box-sizing: border-box;margin-bottom: 0.5em;}#sk-container-id-1 div.sk-estimator:hover {background-color: #d4ebff;}#sk-container-id-1 div.sk-parallel-item::after {content: \"\";width: 100%;border-bottom: 1px solid gray;flex-grow: 1;}#sk-container-id-1 div.sk-label:hover label.sk-toggleable__label {background-color: #d4ebff;}#sk-container-id-1 div.sk-serial::before {content: \"\";position: absolute;border-left: 1px solid gray;box-sizing: border-box;top: 0;bottom: 0;left: 50%;z-index: 0;}#sk-container-id-1 div.sk-serial {display: flex;flex-direction: column;align-items: center;background-color: white;padding-right: 0.2em;padding-left: 0.2em;position: relative;}#sk-container-id-1 div.sk-item {position: relative;z-index: 1;}#sk-container-id-1 div.sk-parallel {display: flex;align-items: stretch;justify-content: center;background-color: white;position: relative;}#sk-container-id-1 div.sk-item::before, #sk-container-id-1 div.sk-parallel-item::before {content: \"\";position: absolute;border-left: 1px solid gray;box-sizing: border-box;top: 0;bottom: 0;left: 50%;z-index: -1;}#sk-container-id-1 div.sk-parallel-item {display: flex;flex-direction: column;z-index: 1;position: relative;background-color: white;}#sk-container-id-1 div.sk-parallel-item:first-child::after {align-self: flex-end;width: 50%;}#sk-container-id-1 div.sk-parallel-item:last-child::after {align-self: flex-start;width: 50%;}#sk-container-id-1 div.sk-parallel-item:only-child::after {width: 0;}#sk-container-id-1 div.sk-dashed-wrapped {border: 1px dashed gray;margin: 0 0.4em 0.5em 0.4em;box-sizing: border-box;padding-bottom: 0.4em;background-color: white;}#sk-container-id-1 div.sk-label label {font-family: monospace;font-weight: bold;display: inline-block;line-height: 1.2em;}#sk-container-id-1 div.sk-label-container {text-align: center;}#sk-container-id-1 div.sk-container {/* jupyter's `normalize.less` sets `[hidden] { display: none; }` but bootstrap.min.css set `[hidden] { display: none !important; }` so we also need the `!important` here to be able to override the default hidden behavior on the sphinx rendered scikit-learn.org. See: https://github.com/scikit-learn/scikit-learn/issues/21755 */display: inline-block !important;position: relative;}#sk-container-id-1 div.sk-text-repr-fallback {display: none;}</style><div id=\"sk-container-id-1\" class=\"sk-top-container\"><div class=\"sk-text-repr-fallback\"><pre>RandomForestClassifier(max_depth=8, min_samples_split=10, random_state=5)</pre><b>In a Jupyter environment, please rerun this cell to show the HTML representation or trust the notebook. <br />On GitHub, the HTML representation is unable to render, please try loading this page with nbviewer.org.</b></div><div class=\"sk-container\" hidden><div class=\"sk-item\"><div class=\"sk-estimator sk-toggleable\"><input class=\"sk-toggleable__control sk-hidden--visually\" id=\"sk-estimator-id-1\" type=\"checkbox\" checked><label for=\"sk-estimator-id-1\" class=\"sk-toggleable__label sk-toggleable__label-arrow\">RandomForestClassifier</label><div class=\"sk-toggleable__content\"><pre>RandomForestClassifier(max_depth=8, min_samples_split=10, random_state=5)</pre></div></div></div></div></div>"
      ],
      "text/plain": [
       "RandomForestClassifier(max_depth=8, min_samples_split=10, random_state=5)"
      ]
     },
     "execution_count": 17,
     "metadata": {},
     "output_type": "execute_result"
    }
   ],
   "source": [
    "rfc.fit(X_train,y_train)"
   ]
  },
  {
   "cell_type": "code",
   "execution_count": 18,
   "metadata": {},
   "outputs": [
    {
     "data": {
      "text/plain": [
       "array([0.05835129, 0.00934188, 0.01283348, 0.14668885, 0.0627151 ,\n",
       "       0.05203053, 0.00939367, 0.03101613, 0.00731768, 0.05180489,\n",
       "       0.01179754, 0.0853489 , 0.14927135, 0.00397548, 0.11015278,\n",
       "       0.02837221, 0.0170084 , 0.01464006, 0.00688734, 0.02445322,\n",
       "       0.01195833, 0.01496411, 0.01610698, 0.02548533, 0.00953048,\n",
       "       0.00743474, 0.01013382, 0.01098542])"
      ]
     },
     "execution_count": 18,
     "metadata": {},
     "output_type": "execute_result"
    }
   ],
   "source": [
    "rfc.feature_importances_"
   ]
  },
  {
   "cell_type": "code",
   "execution_count": 19,
   "metadata": {},
   "outputs": [
    {
     "data": {
      "text/plain": [
       "Index(['Area', 'Perimeter', 'Major_Axis', 'Minor_Axis', 'Eccentricity',\n",
       "       'Eqdiasq', 'Solidity', 'Convex_Area', 'Extent', 'Aspect_Ratio',\n",
       "       'Roundness', 'Compactness', 'Shapefactor_1', 'Shapefactor_2',\n",
       "       'Shapefactor_3', 'Shapefactor_4', 'Mean_RR', 'Mean_RG', 'Mean_RB',\n",
       "       'StdDev_RR', 'StdDev_RG', 'StdDev_RB', 'Skew_RR', 'Skew_RG', 'Skew_RB',\n",
       "       'Kurtosis_RR', 'Kurtosis_RG', 'Kurtosis_RB', 'Class'],\n",
       "      dtype='object')"
      ]
     },
     "execution_count": 19,
     "metadata": {},
     "output_type": "execute_result"
    }
   ],
   "source": [
    "pistachio_df.columns"
   ]
  },
  {
   "cell_type": "code",
   "execution_count": 20,
   "metadata": {},
   "outputs": [],
   "source": [
    "y_pred = rfc.predict(X_test)"
   ]
  },
  {
   "cell_type": "code",
   "execution_count": 21,
   "metadata": {},
   "outputs": [
    {
     "data": {
      "text/plain": [
       "array(['Kirmizi_Pistachio', 'Kirmizi_Pistachio', 'Siirt_Pistachio',\n",
       "       'Siirt_Pistachio', 'Kirmizi_Pistachio', 'Kirmizi_Pistachio',\n",
       "       'Kirmizi_Pistachio', 'Kirmizi_Pistachio', 'Siirt_Pistachio',\n",
       "       'Kirmizi_Pistachio', 'Kirmizi_Pistachio', 'Kirmizi_Pistachio',\n",
       "       'Kirmizi_Pistachio', 'Kirmizi_Pistachio', 'Kirmizi_Pistachio',\n",
       "       'Kirmizi_Pistachio', 'Kirmizi_Pistachio', 'Siirt_Pistachio',\n",
       "       'Siirt_Pistachio', 'Siirt_Pistachio', 'Kirmizi_Pistachio',\n",
       "       'Kirmizi_Pistachio', 'Kirmizi_Pistachio', 'Kirmizi_Pistachio',\n",
       "       'Kirmizi_Pistachio', 'Kirmizi_Pistachio', 'Siirt_Pistachio',\n",
       "       'Siirt_Pistachio', 'Kirmizi_Pistachio', 'Siirt_Pistachio',\n",
       "       'Siirt_Pistachio', 'Kirmizi_Pistachio', 'Kirmizi_Pistachio',\n",
       "       'Kirmizi_Pistachio', 'Kirmizi_Pistachio', 'Siirt_Pistachio',\n",
       "       'Kirmizi_Pistachio', 'Siirt_Pistachio', 'Siirt_Pistachio',\n",
       "       'Kirmizi_Pistachio', 'Siirt_Pistachio', 'Kirmizi_Pistachio',\n",
       "       'Siirt_Pistachio', 'Kirmizi_Pistachio', 'Siirt_Pistachio',\n",
       "       'Kirmizi_Pistachio', 'Siirt_Pistachio', 'Kirmizi_Pistachio',\n",
       "       'Kirmizi_Pistachio', 'Siirt_Pistachio', 'Siirt_Pistachio',\n",
       "       'Siirt_Pistachio', 'Kirmizi_Pistachio', 'Siirt_Pistachio',\n",
       "       'Kirmizi_Pistachio', 'Siirt_Pistachio', 'Kirmizi_Pistachio',\n",
       "       'Siirt_Pistachio', 'Siirt_Pistachio', 'Kirmizi_Pistachio',\n",
       "       'Kirmizi_Pistachio', 'Kirmizi_Pistachio', 'Kirmizi_Pistachio',\n",
       "       'Kirmizi_Pistachio', 'Kirmizi_Pistachio', 'Siirt_Pistachio',\n",
       "       'Siirt_Pistachio', 'Kirmizi_Pistachio', 'Siirt_Pistachio',\n",
       "       'Kirmizi_Pistachio', 'Kirmizi_Pistachio', 'Kirmizi_Pistachio',\n",
       "       'Kirmizi_Pistachio', 'Kirmizi_Pistachio', 'Kirmizi_Pistachio',\n",
       "       'Kirmizi_Pistachio', 'Kirmizi_Pistachio', 'Siirt_Pistachio',\n",
       "       'Siirt_Pistachio', 'Siirt_Pistachio', 'Siirt_Pistachio',\n",
       "       'Kirmizi_Pistachio', 'Siirt_Pistachio', 'Siirt_Pistachio',\n",
       "       'Siirt_Pistachio', 'Siirt_Pistachio', 'Kirmizi_Pistachio',\n",
       "       'Siirt_Pistachio', 'Kirmizi_Pistachio', 'Siirt_Pistachio',\n",
       "       'Kirmizi_Pistachio', 'Kirmizi_Pistachio', 'Kirmizi_Pistachio',\n",
       "       'Siirt_Pistachio', 'Kirmizi_Pistachio', 'Kirmizi_Pistachio',\n",
       "       'Kirmizi_Pistachio', 'Siirt_Pistachio', 'Siirt_Pistachio',\n",
       "       'Kirmizi_Pistachio', 'Kirmizi_Pistachio', 'Siirt_Pistachio',\n",
       "       'Kirmizi_Pistachio', 'Siirt_Pistachio', 'Kirmizi_Pistachio',\n",
       "       'Kirmizi_Pistachio', 'Kirmizi_Pistachio', 'Kirmizi_Pistachio',\n",
       "       'Kirmizi_Pistachio', 'Kirmizi_Pistachio', 'Kirmizi_Pistachio',\n",
       "       'Siirt_Pistachio', 'Kirmizi_Pistachio', 'Siirt_Pistachio',\n",
       "       'Kirmizi_Pistachio', 'Kirmizi_Pistachio', 'Kirmizi_Pistachio',\n",
       "       'Kirmizi_Pistachio', 'Kirmizi_Pistachio', 'Siirt_Pistachio',\n",
       "       'Kirmizi_Pistachio', 'Kirmizi_Pistachio', 'Kirmizi_Pistachio',\n",
       "       'Kirmizi_Pistachio', 'Kirmizi_Pistachio', 'Kirmizi_Pistachio',\n",
       "       'Kirmizi_Pistachio', 'Kirmizi_Pistachio', 'Kirmizi_Pistachio',\n",
       "       'Kirmizi_Pistachio', 'Kirmizi_Pistachio', 'Kirmizi_Pistachio',\n",
       "       'Kirmizi_Pistachio', 'Kirmizi_Pistachio', 'Kirmizi_Pistachio',\n",
       "       'Kirmizi_Pistachio', 'Kirmizi_Pistachio', 'Kirmizi_Pistachio',\n",
       "       'Siirt_Pistachio', 'Kirmizi_Pistachio', 'Kirmizi_Pistachio',\n",
       "       'Siirt_Pistachio', 'Kirmizi_Pistachio', 'Kirmizi_Pistachio',\n",
       "       'Kirmizi_Pistachio', 'Siirt_Pistachio', 'Kirmizi_Pistachio',\n",
       "       'Siirt_Pistachio', 'Kirmizi_Pistachio', 'Siirt_Pistachio',\n",
       "       'Kirmizi_Pistachio', 'Kirmizi_Pistachio', 'Kirmizi_Pistachio',\n",
       "       'Siirt_Pistachio', 'Kirmizi_Pistachio', 'Kirmizi_Pistachio',\n",
       "       'Kirmizi_Pistachio', 'Kirmizi_Pistachio', 'Siirt_Pistachio',\n",
       "       'Siirt_Pistachio', 'Kirmizi_Pistachio', 'Kirmizi_Pistachio',\n",
       "       'Kirmizi_Pistachio', 'Kirmizi_Pistachio', 'Kirmizi_Pistachio',\n",
       "       'Kirmizi_Pistachio', 'Kirmizi_Pistachio', 'Kirmizi_Pistachio',\n",
       "       'Kirmizi_Pistachio', 'Siirt_Pistachio', 'Siirt_Pistachio',\n",
       "       'Kirmizi_Pistachio', 'Kirmizi_Pistachio', 'Kirmizi_Pistachio',\n",
       "       'Kirmizi_Pistachio', 'Kirmizi_Pistachio', 'Siirt_Pistachio',\n",
       "       'Kirmizi_Pistachio', 'Kirmizi_Pistachio', 'Kirmizi_Pistachio',\n",
       "       'Kirmizi_Pistachio', 'Kirmizi_Pistachio', 'Siirt_Pistachio',\n",
       "       'Siirt_Pistachio', 'Kirmizi_Pistachio', 'Siirt_Pistachio',\n",
       "       'Siirt_Pistachio', 'Kirmizi_Pistachio', 'Siirt_Pistachio',\n",
       "       'Kirmizi_Pistachio', 'Kirmizi_Pistachio', 'Kirmizi_Pistachio',\n",
       "       'Kirmizi_Pistachio', 'Kirmizi_Pistachio', 'Kirmizi_Pistachio',\n",
       "       'Siirt_Pistachio', 'Siirt_Pistachio', 'Kirmizi_Pistachio',\n",
       "       'Siirt_Pistachio', 'Siirt_Pistachio', 'Kirmizi_Pistachio',\n",
       "       'Kirmizi_Pistachio', 'Kirmizi_Pistachio', 'Kirmizi_Pistachio',\n",
       "       'Siirt_Pistachio', 'Siirt_Pistachio', 'Kirmizi_Pistachio',\n",
       "       'Kirmizi_Pistachio', 'Kirmizi_Pistachio', 'Kirmizi_Pistachio',\n",
       "       'Kirmizi_Pistachio', 'Kirmizi_Pistachio', 'Kirmizi_Pistachio',\n",
       "       'Kirmizi_Pistachio', 'Siirt_Pistachio', 'Kirmizi_Pistachio',\n",
       "       'Kirmizi_Pistachio', 'Siirt_Pistachio', 'Kirmizi_Pistachio',\n",
       "       'Siirt_Pistachio', 'Siirt_Pistachio', 'Siirt_Pistachio',\n",
       "       'Siirt_Pistachio', 'Kirmizi_Pistachio', 'Kirmizi_Pistachio',\n",
       "       'Kirmizi_Pistachio', 'Siirt_Pistachio', 'Kirmizi_Pistachio',\n",
       "       'Siirt_Pistachio', 'Siirt_Pistachio', 'Kirmizi_Pistachio',\n",
       "       'Kirmizi_Pistachio', 'Kirmizi_Pistachio', 'Kirmizi_Pistachio',\n",
       "       'Kirmizi_Pistachio', 'Siirt_Pistachio', 'Kirmizi_Pistachio',\n",
       "       'Kirmizi_Pistachio', 'Siirt_Pistachio', 'Siirt_Pistachio',\n",
       "       'Kirmizi_Pistachio', 'Kirmizi_Pistachio', 'Kirmizi_Pistachio',\n",
       "       'Siirt_Pistachio', 'Siirt_Pistachio', 'Kirmizi_Pistachio',\n",
       "       'Kirmizi_Pistachio', 'Siirt_Pistachio', 'Siirt_Pistachio',\n",
       "       'Kirmizi_Pistachio', 'Siirt_Pistachio', 'Siirt_Pistachio',\n",
       "       'Kirmizi_Pistachio', 'Kirmizi_Pistachio', 'Kirmizi_Pistachio',\n",
       "       'Siirt_Pistachio', 'Siirt_Pistachio', 'Kirmizi_Pistachio',\n",
       "       'Siirt_Pistachio', 'Kirmizi_Pistachio', 'Siirt_Pistachio',\n",
       "       'Siirt_Pistachio', 'Siirt_Pistachio', 'Kirmizi_Pistachio',\n",
       "       'Siirt_Pistachio', 'Siirt_Pistachio', 'Kirmizi_Pistachio',\n",
       "       'Siirt_Pistachio', 'Kirmizi_Pistachio', 'Siirt_Pistachio',\n",
       "       'Siirt_Pistachio', 'Kirmizi_Pistachio', 'Kirmizi_Pistachio',\n",
       "       'Kirmizi_Pistachio', 'Kirmizi_Pistachio', 'Siirt_Pistachio',\n",
       "       'Kirmizi_Pistachio', 'Kirmizi_Pistachio', 'Kirmizi_Pistachio',\n",
       "       'Kirmizi_Pistachio', 'Kirmizi_Pistachio', 'Siirt_Pistachio',\n",
       "       'Kirmizi_Pistachio', 'Siirt_Pistachio', 'Kirmizi_Pistachio',\n",
       "       'Kirmizi_Pistachio', 'Siirt_Pistachio', 'Kirmizi_Pistachio',\n",
       "       'Kirmizi_Pistachio', 'Siirt_Pistachio', 'Siirt_Pistachio',\n",
       "       'Kirmizi_Pistachio', 'Kirmizi_Pistachio', 'Siirt_Pistachio',\n",
       "       'Kirmizi_Pistachio', 'Siirt_Pistachio', 'Siirt_Pistachio',\n",
       "       'Siirt_Pistachio', 'Siirt_Pistachio', 'Kirmizi_Pistachio',\n",
       "       'Siirt_Pistachio', 'Kirmizi_Pistachio', 'Siirt_Pistachio',\n",
       "       'Kirmizi_Pistachio', 'Kirmizi_Pistachio', 'Siirt_Pistachio',\n",
       "       'Siirt_Pistachio', 'Kirmizi_Pistachio', 'Kirmizi_Pistachio',\n",
       "       'Kirmizi_Pistachio', 'Kirmizi_Pistachio', 'Kirmizi_Pistachio',\n",
       "       'Kirmizi_Pistachio', 'Siirt_Pistachio', 'Kirmizi_Pistachio',\n",
       "       'Siirt_Pistachio', 'Siirt_Pistachio', 'Kirmizi_Pistachio',\n",
       "       'Siirt_Pistachio', 'Kirmizi_Pistachio', 'Kirmizi_Pistachio',\n",
       "       'Kirmizi_Pistachio', 'Kirmizi_Pistachio', 'Kirmizi_Pistachio',\n",
       "       'Siirt_Pistachio', 'Kirmizi_Pistachio', 'Siirt_Pistachio',\n",
       "       'Siirt_Pistachio', 'Kirmizi_Pistachio', 'Kirmizi_Pistachio',\n",
       "       'Siirt_Pistachio', 'Kirmizi_Pistachio', 'Siirt_Pistachio',\n",
       "       'Siirt_Pistachio', 'Kirmizi_Pistachio', 'Siirt_Pistachio',\n",
       "       'Kirmizi_Pistachio', 'Siirt_Pistachio', 'Siirt_Pistachio',\n",
       "       'Kirmizi_Pistachio', 'Kirmizi_Pistachio', 'Kirmizi_Pistachio',\n",
       "       'Kirmizi_Pistachio', 'Kirmizi_Pistachio', 'Siirt_Pistachio',\n",
       "       'Kirmizi_Pistachio', 'Kirmizi_Pistachio', 'Siirt_Pistachio',\n",
       "       'Siirt_Pistachio', 'Kirmizi_Pistachio', 'Siirt_Pistachio',\n",
       "       'Kirmizi_Pistachio', 'Kirmizi_Pistachio', 'Kirmizi_Pistachio',\n",
       "       'Kirmizi_Pistachio', 'Kirmizi_Pistachio', 'Siirt_Pistachio',\n",
       "       'Kirmizi_Pistachio', 'Kirmizi_Pistachio', 'Kirmizi_Pistachio',\n",
       "       'Kirmizi_Pistachio', 'Kirmizi_Pistachio', 'Kirmizi_Pistachio',\n",
       "       'Siirt_Pistachio', 'Siirt_Pistachio', 'Siirt_Pistachio',\n",
       "       'Kirmizi_Pistachio', 'Siirt_Pistachio', 'Kirmizi_Pistachio',\n",
       "       'Kirmizi_Pistachio', 'Siirt_Pistachio', 'Kirmizi_Pistachio',\n",
       "       'Siirt_Pistachio', 'Kirmizi_Pistachio', 'Kirmizi_Pistachio',\n",
       "       'Kirmizi_Pistachio', 'Siirt_Pistachio', 'Kirmizi_Pistachio',\n",
       "       'Kirmizi_Pistachio', 'Kirmizi_Pistachio', 'Kirmizi_Pistachio',\n",
       "       'Kirmizi_Pistachio', 'Siirt_Pistachio', 'Kirmizi_Pistachio',\n",
       "       'Siirt_Pistachio', 'Kirmizi_Pistachio', 'Kirmizi_Pistachio',\n",
       "       'Siirt_Pistachio', 'Kirmizi_Pistachio', 'Siirt_Pistachio',\n",
       "       'Kirmizi_Pistachio', 'Siirt_Pistachio', 'Siirt_Pistachio',\n",
       "       'Kirmizi_Pistachio', 'Kirmizi_Pistachio', 'Siirt_Pistachio',\n",
       "       'Kirmizi_Pistachio', 'Siirt_Pistachio', 'Kirmizi_Pistachio',\n",
       "       'Kirmizi_Pistachio', 'Kirmizi_Pistachio', 'Kirmizi_Pistachio',\n",
       "       'Kirmizi_Pistachio', 'Kirmizi_Pistachio', 'Kirmizi_Pistachio',\n",
       "       'Siirt_Pistachio', 'Kirmizi_Pistachio', 'Kirmizi_Pistachio',\n",
       "       'Kirmizi_Pistachio', 'Kirmizi_Pistachio', 'Siirt_Pistachio',\n",
       "       'Siirt_Pistachio', 'Kirmizi_Pistachio', 'Kirmizi_Pistachio',\n",
       "       'Siirt_Pistachio', 'Kirmizi_Pistachio', 'Kirmizi_Pistachio',\n",
       "       'Kirmizi_Pistachio', 'Siirt_Pistachio', 'Kirmizi_Pistachio',\n",
       "       'Kirmizi_Pistachio', 'Kirmizi_Pistachio', 'Kirmizi_Pistachio',\n",
       "       'Kirmizi_Pistachio', 'Kirmizi_Pistachio', 'Kirmizi_Pistachio',\n",
       "       'Kirmizi_Pistachio', 'Siirt_Pistachio', 'Kirmizi_Pistachio',\n",
       "       'Kirmizi_Pistachio', 'Kirmizi_Pistachio', 'Siirt_Pistachio',\n",
       "       'Siirt_Pistachio', 'Siirt_Pistachio', 'Kirmizi_Pistachio',\n",
       "       'Kirmizi_Pistachio', 'Kirmizi_Pistachio', 'Kirmizi_Pistachio',\n",
       "       'Kirmizi_Pistachio', 'Siirt_Pistachio', 'Siirt_Pistachio',\n",
       "       'Siirt_Pistachio', 'Kirmizi_Pistachio', 'Kirmizi_Pistachio',\n",
       "       'Kirmizi_Pistachio', 'Kirmizi_Pistachio', 'Kirmizi_Pistachio',\n",
       "       'Kirmizi_Pistachio', 'Siirt_Pistachio', 'Kirmizi_Pistachio',\n",
       "       'Kirmizi_Pistachio', 'Kirmizi_Pistachio', 'Siirt_Pistachio',\n",
       "       'Kirmizi_Pistachio', 'Kirmizi_Pistachio', 'Kirmizi_Pistachio',\n",
       "       'Siirt_Pistachio', 'Kirmizi_Pistachio', 'Siirt_Pistachio',\n",
       "       'Kirmizi_Pistachio', 'Kirmizi_Pistachio', 'Siirt_Pistachio',\n",
       "       'Siirt_Pistachio', 'Siirt_Pistachio', 'Kirmizi_Pistachio',\n",
       "       'Kirmizi_Pistachio', 'Kirmizi_Pistachio', 'Kirmizi_Pistachio',\n",
       "       'Kirmizi_Pistachio', 'Kirmizi_Pistachio', 'Kirmizi_Pistachio',\n",
       "       'Kirmizi_Pistachio', 'Siirt_Pistachio', 'Kirmizi_Pistachio',\n",
       "       'Kirmizi_Pistachio', 'Siirt_Pistachio', 'Siirt_Pistachio',\n",
       "       'Siirt_Pistachio', 'Siirt_Pistachio', 'Kirmizi_Pistachio',\n",
       "       'Siirt_Pistachio', 'Siirt_Pistachio', 'Kirmizi_Pistachio',\n",
       "       'Siirt_Pistachio', 'Kirmizi_Pistachio', 'Kirmizi_Pistachio',\n",
       "       'Kirmizi_Pistachio', 'Kirmizi_Pistachio', 'Kirmizi_Pistachio',\n",
       "       'Kirmizi_Pistachio', 'Kirmizi_Pistachio', 'Siirt_Pistachio',\n",
       "       'Siirt_Pistachio', 'Siirt_Pistachio', 'Siirt_Pistachio',\n",
       "       'Siirt_Pistachio', 'Siirt_Pistachio', 'Kirmizi_Pistachio',\n",
       "       'Kirmizi_Pistachio', 'Kirmizi_Pistachio', 'Kirmizi_Pistachio',\n",
       "       'Kirmizi_Pistachio', 'Kirmizi_Pistachio', 'Siirt_Pistachio',\n",
       "       'Kirmizi_Pistachio', 'Siirt_Pistachio', 'Kirmizi_Pistachio',\n",
       "       'Siirt_Pistachio', 'Kirmizi_Pistachio', 'Siirt_Pistachio',\n",
       "       'Kirmizi_Pistachio', 'Kirmizi_Pistachio', 'Kirmizi_Pistachio',\n",
       "       'Kirmizi_Pistachio', 'Siirt_Pistachio', 'Siirt_Pistachio',\n",
       "       'Kirmizi_Pistachio', 'Siirt_Pistachio', 'Siirt_Pistachio',\n",
       "       'Siirt_Pistachio', 'Kirmizi_Pistachio', 'Siirt_Pistachio',\n",
       "       'Siirt_Pistachio', 'Kirmizi_Pistachio', 'Siirt_Pistachio',\n",
       "       'Siirt_Pistachio', 'Siirt_Pistachio', 'Kirmizi_Pistachio',\n",
       "       'Kirmizi_Pistachio', 'Siirt_Pistachio', 'Kirmizi_Pistachio',\n",
       "       'Kirmizi_Pistachio', 'Siirt_Pistachio', 'Kirmizi_Pistachio',\n",
       "       'Kirmizi_Pistachio', 'Siirt_Pistachio', 'Kirmizi_Pistachio'],\n",
       "      dtype=object)"
      ]
     },
     "execution_count": 21,
     "metadata": {},
     "output_type": "execute_result"
    }
   ],
   "source": [
    "y_pred"
   ]
  },
  {
   "cell_type": "code",
   "execution_count": 22,
   "metadata": {},
   "outputs": [
    {
     "data": {
      "text/plain": [
       "array([[306,  26],\n",
       "       [ 37, 168]], dtype=int64)"
      ]
     },
     "execution_count": 22,
     "metadata": {},
     "output_type": "execute_result"
    }
   ],
   "source": [
    "from sklearn.metrics import confusion_matrix\n",
    "confusion_matrix(y_test,y_pred)"
   ]
  },
  {
   "cell_type": "code",
   "execution_count": 23,
   "metadata": {},
   "outputs": [
    {
     "data": {
      "text/plain": [
       "0.88268156424581"
      ]
     },
     "execution_count": 23,
     "metadata": {},
     "output_type": "execute_result"
    }
   ],
   "source": [
    "from sklearn.metrics import accuracy_score\n",
    "accuracy_score(y_test,y_pred)"
   ]
  },
  {
   "cell_type": "code",
   "execution_count": 24,
   "metadata": {},
   "outputs": [
    {
     "data": {
      "text/plain": [
       "array([0.95061728, 0.89440994, 0.86335404, 0.89440994, 0.85093168,\n",
       "       0.92546584, 0.93167702, 0.91304348, 0.89440994, 0.8757764 ])"
      ]
     },
     "execution_count": 24,
     "metadata": {},
     "output_type": "execute_result"
    }
   ],
   "source": [
    "from sklearn.model_selection import cross_val_score\n",
    "cross_val_score(rfc,X_train,y_train,cv=10)"
   ]
  },
  {
   "cell_type": "code",
   "execution_count": 26,
   "metadata": {},
   "outputs": [
    {
     "name": "stdout",
     "output_type": "stream",
     "text": [
      "                   precision    recall  f1-score   support\n",
      "\n",
      "Kirmizi_Pistachio       0.89      0.92      0.91       332\n",
      "  Siirt_Pistachio       0.87      0.82      0.84       205\n",
      "\n",
      "         accuracy                           0.88       537\n",
      "        macro avg       0.88      0.87      0.87       537\n",
      "     weighted avg       0.88      0.88      0.88       537\n",
      "\n"
     ]
    }
   ],
   "source": [
    "from sklearn.metrics import classification_report\n",
    "print(classification_report(y_test,y_pred))"
   ]
  },
  {
   "cell_type": "code",
   "execution_count": 27,
   "metadata": {},
   "outputs": [
    {
     "data": {
      "image/png": "[encoded data removed]",
      "text/plain": [
       "<Figure size 640x480 with 1 Axes>"
      ]
     },
     "metadata": {},
     "output_type": "display_data"
    }
   ],
   "source": [
    "import numpy as np\n",
    "\n",
    "features = pistachio_df.columns\n",
    "importance = rfc.feature_importances_\n",
    "indices = np.argsort(importance)\n",
    "\n",
    "plt.title('Feature Importance')\n",
    "plt.barh(range(len(indices)), importance[indices], color='b', align='center')\n",
    "plt.yticks(range(len(indices)), [features[i] for i in indices])\n",
    "plt.xlabel('Relative Importance')\n",
    "plt.show()"
   ]
  }
 ],
 "metadata": {
  "kernelspec": {
   "display_name": "Python 3",
   "language": "python",
   "name": "python3"
  },
  "language_info": {
   "codemirror_mode": {
    "name": "ipython",
    "version": 3
   },
   "file_extension": ".py",
   "mimetype": "text/x-python",
   "name": "python",
   "nbconvert_exporter": "python",
   "pygments_lexer": "ipython3",
   "version": "3.9.0"
  }
 },
 "nbformat": 4,
 "nbformat_minor": 2
}

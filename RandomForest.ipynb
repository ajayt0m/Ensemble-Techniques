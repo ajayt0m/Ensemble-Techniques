{
 "cells": [
  {
   "cell_type": "code",
   "execution_count": 2,
   "metadata": {},
   "outputs": [],
   "source": [
    "import pandas as pd\n",
    "\n",
    "file_path = r\"https://raw.githubusercontent.com/ajayt0m/Ensemble-Techniques/main/insurand_df.csv\"\n",
    "\n",
    "insurance_df = pd.read_excel(file_path)"
   ]
  },
  {
   "cell_type": "code",
   "execution_count": 4,
   "metadata": {},
   "outputs": [
    {
     "name": "stdout",
     "output_type": "stream",
     "text": [
      "<class 'pandas.core.frame.DataFrame'>\n",
      "RangeIndex: 10000 entries, 0 to 9999\n",
      "Data columns (total 67 columns):\n",
      " #   Column                                  Non-Null Count  Dtype  \n",
      "---  ------                                  --------------  -----  \n",
      " 0   record_number                           10000 non-null  int64  \n",
      " 1   days_since_opened                       10000 non-null  int64  \n",
      " 2   days_since_confirmed                    10000 non-null  int64  \n",
      " 3   primary_term                            10000 non-null  int64  \n",
      " 4   final_term                              10000 non-null  int64  \n",
      " 5   days_till_primary_close                 10000 non-null  int64  \n",
      " 6   days_till_final_close                   10000 non-null  int64  \n",
      " 7   loans_credit_limit                      10000 non-null  int64  \n",
      " 8   loans_next_payment_summary              10000 non-null  int64  \n",
      " 9   loans_outstanding_balance               10000 non-null  int64  \n",
      " 10  loans_max_overdue_amount                10000 non-null  int64  \n",
      " 11  loans_credit_cost_rate                  10000 non-null  int64  \n",
      " 12  loans_within_5_days                     10000 non-null  int64  \n",
      " 13  loans_within_5_to_30_days               10000 non-null  int64  \n",
      " 14  loans_within_30_to_60_days              10000 non-null  int64  \n",
      " 15  loans_within_60_to_90_days              10000 non-null  int64  \n",
      " 16  loans_over_90_days                      10000 non-null  int64  \n",
      " 17  utilization                             10000 non-null  int64  \n",
      " 18  over_limit_count                        10000 non-null  int64  \n",
      " 19  max_over_limit_count                    10000 non-null  int64  \n",
      " 20  encoded_payment_0                       10000 non-null  float64\n",
      " 21  encoded_payment_1                       10000 non-null  float64\n",
      " 22  encoded_payment_2                       10000 non-null  float64\n",
      " 23  encoded_payment_3                       10000 non-null  float64\n",
      " 24  encoded_payment_4                       10000 non-null  float64\n",
      " 25  encoded_payment_5                       10000 non-null  float64\n",
      " 26  encoded_payment_6                       10000 non-null  float64\n",
      " 27  encoded_payment_7                       10000 non-null  float64\n",
      " 28  encoded_payment_8                       10000 non-null  float64\n",
      " 29  encoded_payment_9                       10000 non-null  float64\n",
      " 30  encoded_payment_10                      10000 non-null  float64\n",
      " 31  encoded_payment_11                      10000 non-null  float64\n",
      " 32  encoded_payment_12                      10000 non-null  float64\n",
      " 33  encoded_payment_13                      10000 non-null  float64\n",
      " 34  encoded_payment_14                      10000 non-null  float64\n",
      " 35  encoded_payment_15                      10000 non-null  float64\n",
      " 36  encoded_payment_16                      10000 non-null  float64\n",
      " 37  encoded_payment_17                      10000 non-null  float64\n",
      " 38  encoded_payment_18                      10000 non-null  float64\n",
      " 39  encoded_payment_19                      10000 non-null  float64\n",
      " 40  encoded_payment_20                      10000 non-null  float64\n",
      " 41  encoded_payment_21                      10000 non-null  float64\n",
      " 42  encoded_payment_22                      10000 non-null  float64\n",
      " 43  encoded_payment_23                      10000 non-null  float64\n",
      " 44  encoded_payment_24                      10000 non-null  float64\n",
      " 45  encoded_loans_account_holder_type       10000 non-null  int64  \n",
      " 46  encoded_loans_credit_status             10000 non-null  int64  \n",
      " 47  encoded_loans_credit_type               10000 non-null  int64  \n",
      " 48  encoded_loans_account_currency          10000 non-null  int64  \n",
      " 49  primary_close_flag                      10000 non-null  int64  \n",
      " 50  final_close_flag                        10000 non-null  int64  \n",
      " 51  is_zero_utilization_No                  10000 non-null  bool   \n",
      " 52  is_zero_utilization_Yes                 10000 non-null  bool   \n",
      " 53  is_zero_over_limit_count_No             10000 non-null  bool   \n",
      " 54  is_zero_over_limit_count_Yes            10000 non-null  bool   \n",
      " 55  is_zero_max_over_limit_count_No         10000 non-null  bool   \n",
      " 56  is_zero_max_over_limit_count_Yes        10000 non-null  bool   \n",
      " 57  is_zero_loans_within_5_days_No          10000 non-null  bool   \n",
      " 58  is_zero_loans_within_5_days_Yes         10000 non-null  bool   \n",
      " 59  is_zero_loans_within_5_to_30_days_No    10000 non-null  bool   \n",
      " 60  is_zero_loans_within_5_to_30_days_Yes   10000 non-null  bool   \n",
      " 61  is_zero_loans_within_30_to_60_days_No   10000 non-null  bool   \n",
      " 62  is_zero_loans_within_30_to_60_days_Yes  10000 non-null  bool   \n",
      " 63  is_zero_loans_within_60_to_90_days_No   10000 non-null  bool   \n",
      " 64  is_zero_loans_within_60_to_90_days_Yes  10000 non-null  bool   \n",
      " 65  is_zero_loans_over_90_days_No           10000 non-null  bool   \n",
      " 66  is_zero_loans_over_90_days_Yes          10000 non-null  bool   \n",
      "dtypes: bool(16), float64(25), int64(26)\n",
      "memory usage: 4.0 MB\n"
     ]
    }
   ],
   "source": [
    "insurance_df.info()"
   ]
  },
  {
   "cell_type": "code",
   "execution_count": 6,
   "metadata": {},
   "outputs": [
    {
     "data": {
      "image/png": "[encoded data removed]",
      "text/plain": [
       "<Figure size 640x480 with 1 Axes>"
      ]
     },
     "metadata": {},
     "output_type": "display_data"
    }
   ],
   "source": [
    "import seaborn as sns\n",
    "import matplotlib.pyplot as plt\n",
    "\n",
    "sns.countplot(insurance_df[\"final_close_flag\"])\n",
    "plt.xlabel(\"Final Flag\")\n",
    "plt.ylabel(\"Count of Final Flag\")\n",
    "plt.title(\"Final Flag Variable Count Plot\")\n",
    "plt.show()"
   ]
  }
 ],
 "metadata": {
  "kernelspec": {
   "display_name": "Python 3",
   "language": "python",
   "name": "python3"
  },
  "language_info": {
   "codemirror_mode": {
    "name": "ipython",
    "version": 3
   },
   "file_extension": ".py",
   "mimetype": "text/x-python",
   "name": "python",
   "nbconvert_exporter": "python",
   "pygments_lexer": "ipython3",
   "version": "3.9.0"
  }
 },
 "nbformat": 4,
 "nbformat_minor": 2
}

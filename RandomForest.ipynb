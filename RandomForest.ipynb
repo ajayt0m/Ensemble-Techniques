{
 "cells": [
  {
   "cell_type": "code",
   "execution_count": null,
   "metadata": {},
   "outputs": [],
   "source": [
    "import pandas as pd\n",
    "\n",
    "file_path = 'D:\\\\GitHub\\\\Clustering - BFSI Client DB\\\\Participants_Data_analytics_olympiad_2023\\\\train.csv'\n",
    "\n",
    "client_df = pd.read_csv(file_path)"
   ]
  }
 ],
 "metadata": {
  "language_info": {
   "name": "python"
  }
 },
 "nbformat": 4,
 "nbformat_minor": 2
}
